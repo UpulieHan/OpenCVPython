{
 "cells": [
  {
   "cell_type": "markdown",
   "metadata": {},
   "source": [
    "1. To read and save the image from/in storage device."
   ]
  },
  {
   "cell_type": "code",
   "execution_count": 1,
   "metadata": {},
   "outputs": [
    {
     "name": "stdout",
     "output_type": "stream",
     "text": [
      "Image successfully save ?  True\n"
     ]
    }
   ],
   "source": [
    "import cv2\n",
    "# 1 - OK(cv2.IMREAD_OK) ,0 - grayscale image(cv2.IMREAD_GRAYSCALE), -1 - same image(unchanged image)(cv2.IMREAD_UNCHANGED)\n",
    "img = cv2.imread(r\"C:\\Users\\iresh\\Desktop\\Y4S1\\5. IT4130 IUP (Image Understanding and Processing)()\\Week 1 (8th Feb - 14 Feb)\\1.jpg\",0)\n",
    "# will open up a window and show our image\n",
    "cv2.imshow('Input Window',img)\n",
    "# to write the image somewhere with the name 2.jpg\n",
    "status = cv2.imwrite(r\"C:\\Users\\iresh\\Desktop\\Y4S1\\5. IT4130 IUP (Image Understanding and Processing)()\\Week 1 (8th Feb - 14 Feb)\\2.jpg\",img)\n",
    "# to check the status of the image\n",
    "print(\"Image successfully save ? \",status)\n",
    "# To stop the window from closing\n",
    "cv2.waitKey()\n",
    "cv2.destroyAllWindows()"
   ]
  },
  {
   "cell_type": "markdown",
   "metadata": {},
   "source": [
    "2. To access pixel values of an image and modify them. (Use a 2D loop to modify the values to change the intensity)"
   ]
  },
  {
   "cell_type": "code",
   "execution_count": 2,
   "metadata": {},
   "outputs": [
    {
     "name": "stdout",
     "output_type": "stream",
     "text": [
      "[ 22 208 248]\n"
     ]
    }
   ],
   "source": [
    "import cv2\n",
    "img = cv2.imread(r\"C:\\Users\\iresh\\Desktop\\Y4S1\\5. IT4130 IUP (Image Understanding and Processing)()\\Week 1 (8th Feb - 14 Feb)\\1.jpg\",1)\n",
    "px = img[50,100] #img [x,y]\n",
    "print(px) #22-b 208-g 248-r\n",
    "\n",
    "cv2.imshow('Input Window',img)\n",
    "cv2.waitKey()\n",
    "cv2.destroyAllWindows()"
   ]
  },
  {
   "cell_type": "code",
   "execution_count": 3,
   "metadata": {},
   "outputs": [
    {
     "name": "stdout",
     "output_type": "stream",
     "text": [
      "199\n"
     ]
    }
   ],
   "source": [
    "import cv2\n",
    "img = cv2.imread(r\"C:\\Users\\iresh\\Desktop\\Y4S1\\5. IT4130 IUP (Image Understanding and Processing)()\\Week 1 (8th Feb - 14 Feb)\\1.jpg\",0)\n",
    "px = img[50,100] #img [x,y]\n",
    "print(px) #intensity - 199 \n",
    "\n",
    "cv2.imshow('Input Window',img)\n",
    "cv2.waitKey()\n",
    "cv2.destroyAllWindows()"
   ]
  },
  {
   "cell_type": "code",
   "execution_count": 4,
   "metadata": {},
   "outputs": [
    {
     "name": "stdout",
     "output_type": "stream",
     "text": [
      "[ 22 208 248]\n"
     ]
    }
   ],
   "source": [
    "import cv2\n",
    "img = cv2.imread(r\"C:\\Users\\iresh\\Desktop\\Y4S1\\5. IT4130 IUP (Image Understanding and Processing)()\\Week 1 (8th Feb - 14 Feb)\\1.jpg\",1)\n",
    "px = img[50,100] #img [x,y]\n",
    "print(px) #22-b 208-g 248-r\n",
    "img[50,100]=[0,0,255] #Image would be displayed with a red dot\n",
    "cv2.imshow('Input Window',img)\n",
    "cv2.waitKey()\n",
    "cv2.destroyAllWindows()"
   ]
  },
  {
   "cell_type": "code",
   "execution_count": 5,
   "metadata": {},
   "outputs": [
    {
     "name": "stdout",
     "output_type": "stream",
     "text": [
      "199\n"
     ]
    }
   ],
   "source": [
    "import cv2\n",
    "img = cv2.imread(r\"C:\\Users\\iresh\\Desktop\\Y4S1\\5. IT4130 IUP (Image Understanding and Processing)()\\Week 1 (8th Feb - 14 Feb)\\1.jpg\",0)\n",
    "px = img[50,100] #img [x,y]\n",
    "print(px) #intensity - 199 \n",
    "img [50,100] = 230\n",
    "cv2.imshow('Input Window',img)\n",
    "cv2.waitKey()\n",
    "cv2.destroyAllWindows()"
   ]
  },
  {
   "cell_type": "markdown",
   "metadata": {},
   "source": [
    "3. To access image properties."
   ]
  },
  {
   "cell_type": "code",
   "execution_count": 6,
   "metadata": {
    "scrolled": true
   },
   "outputs": [
    {
     "name": "stdout",
     "output_type": "stream",
     "text": [
      "(225, 225)\n",
      "50625\n",
      "uint8\n"
     ]
    }
   ],
   "source": [
    "import cv2\n",
    "img = cv2.imread(r\"C:\\Users\\iresh\\Desktop\\Y4S1\\5. IT4130 IUP (Image Understanding and Processing)()\\Week 1 (8th Feb - 14 Feb)\\1.jpg\",0)\n",
    "print(img.shape)#255x255 sized image (for color images 3 for the amount of colors)\n",
    "print(img.size) #in bits\n",
    "print(img.dtype) #data type\n",
    "cv2.imshow('Input Window',img)\n",
    "cv2.waitKey()\n",
    "cv2.destroyAllWindows()"
   ]
  },
  {
   "cell_type": "markdown",
   "metadata": {},
   "source": [
    "4. To split and merge channels."
   ]
  },
  {
   "cell_type": "code",
   "execution_count": 1,
   "metadata": {},
   "outputs": [
    {
     "data": {
      "text/plain": [
       "13"
      ]
     },
     "execution_count": 1,
     "metadata": {},
     "output_type": "execute_result"
    }
   ],
   "source": [
    "# import cv2\n",
    "# img = cv2.imread(r\"C:\\Users\\iresh\\Desktop\\Y4S1\\5. IT4130 IUP (Image Understanding and Processing)()\\Week 1 (8th Feb - 14 Feb)\\3.jpg\",-1)\n",
    "\n",
    "# (r,b,g)= cv2.split(img)\n",
    "\n",
    "# cv2.imshow('Blue Window',b)\n",
    "# cv2.imshow('Green Window',g)\n",
    "# cv2.imshow('Red Window',r)\n",
    "\n",
    "# cv2.waitKey()\n",
    "# cv2.destroyAllWindows()"
   ]
  },
  {
   "cell_type": "markdown",
   "metadata": {},
   "source": [
    "5. To resize/rotate image."
   ]
  },
  {
   "cell_type": "code",
   "execution_count": null,
   "metadata": {},
   "outputs": [],
   "source": [
    "import cv2\n",
    "img = cv2.imread(r\"C:\\Users\\iresh\\Desktop\\Y4S1\\5. IT4130 IUP (Image Understanding and Processing)()\\Week 1 (8th Feb - 14 Feb)\\3.jpg\",-1)\n",
    "\n",
    "\n",
    "\n",
    "cv2.imshow('Rotated image',img)\n",
    "cv2.waitKey()\n",
    "cv2.destroyAllWindows()"
   ]
  },
  {
   "cell_type": "code",
   "execution_count": 2,
   "metadata": {},
   "outputs": [],
   "source": [
    "import cv2\n",
    "img = cv2.imread(r\"C:\\Users\\iresh\\Desktop\\Y4S1\\5. IT4130 IUP (Image Understanding and Processing)()\\Week 1 (8th Feb - 14 Feb)\\3.jpg\",-1)\n",
    "\n",
    "# Resizing the image to 300 x 300\n",
    "resized = cv2.resize(img, (600, 600))\n",
    "\n",
    "cv2.imshow('Resized image',resized)\n",
    "cv2.waitKey()\n",
    "cv2.destroyAllWindows()"
   ]
  },
  {
   "cell_type": "markdown",
   "metadata": {},
   "source": [
    "6. To draw circle/rectangle/lines."
   ]
  },
  {
   "cell_type": "code",
   "execution_count": 2,
   "metadata": {},
   "outputs": [],
   "source": [
    "import cv2\n",
    "img = cv2.imread(r\"C:\\Users\\iresh\\Desktop\\Y4S1\\5. IT4130 IUP (Image Understanding and Processing)()\\Week 1 (8th Feb - 14 Feb)\\3.jpg\",-1)\n",
    "\n",
    "#line is red with thickness of 10 pixels (from point 0,0 to 500,500)\n",
    "cv2.line(img,(0,0),(500,500),(0,0,255),10)\n",
    "\n",
    "cv2.imshow('Line crossed image',img)\n",
    "cv2.waitKey()\n",
    "cv2.destroyAllWindows()"
   ]
  },
  {
   "cell_type": "code",
   "execution_count": 6,
   "metadata": {},
   "outputs": [],
   "source": [
    "import cv2\n",
    "img = cv2.imread(r\"C:\\Users\\iresh\\Desktop\\Y4S1\\5. IT4130 IUP (Image Understanding and Processing)()\\Week 1 (8th Feb - 14 Feb)\\3.jpg\",-1)\n",
    "\n",
    "#thickness of 3 pixels (from point 384,0 to 1024,1024) (or replace the thickness by -1)\n",
    "cv2.rectangle(img,(384,10),(500,200),(255,0,0),-1)\n",
    "\n",
    "cv2.imshow('Line crossed image',img)\n",
    "cv2.waitKey()\n",
    "cv2.destroyAllWindows()"
   ]
  },
  {
   "cell_type": "code",
   "execution_count": 11,
   "metadata": {},
   "outputs": [],
   "source": [
    "import cv2\n",
    "img = cv2.imread(r\"C:\\Users\\iresh\\Desktop\\Y4S1\\5. IT4130 IUP (Image Understanding and Processing)()\\Week 1 (8th Feb - 14 Feb)\\3.jpg\",-1)\n",
    "\n",
    "#center is 100,100 with 150 radius of color red and thickness of 20\n",
    "cv2.circle(img,(300,200), 150, (0,0,255), 10)\n",
    "\n",
    "cv2.imshow('Line crossed image',img)\n",
    "cv2.waitKey()\n",
    "cv2.destroyAllWindows()"
   ]
  },
  {
   "cell_type": "markdown",
   "metadata": {},
   "source": [
    "7. To write text on image."
   ]
  },
  {
   "cell_type": "code",
   "execution_count": 8,
   "metadata": {},
   "outputs": [
    {
     "data": {
      "text/plain": [
       "True"
      ]
     },
     "execution_count": 8,
     "metadata": {},
     "output_type": "execute_result"
    }
   ],
   "source": [
    "import cv2\n",
    "image = cv2.imread(r\"C:\\Users\\iresh\\Desktop\\Y4S1\\5. IT4130 IUP (Image Understanding and Processing)()\\Week 1 (8th Feb - 14 Feb)\\1.jpg\",0)\n",
    "\n",
    "position = (10,50)\n",
    "cv2.putText(\n",
    "     image, #numpy array on which text is written\n",
    "     \"Hello World\", #text\n",
    "     position, #position at which writing has to start\n",
    "     cv2.FONT_HERSHEY_SIMPLEX, #font family\n",
    "     1, #font size\n",
    "     (255, 0, 0, 0), #font color\n",
    "     3) #font stroke\n",
    "cv2.imwrite(r\"C:\\Users\\iresh\\Desktop\\Y4S1\\5. IT4130 IUP (Image Understanding and Processing)()\\Week 1 (8th Feb - 14 Feb)\\output.png\", image)"
   ]
  },
  {
   "cell_type": "markdown",
   "metadata": {},
   "source": [
    "8. To covert color to grayscale/binary/negative image"
   ]
  },
  {
   "cell_type": "code",
   "execution_count": 1,
   "metadata": {},
   "outputs": [],
   "source": [
    "# To use the flag change to turn to grayscale , it's not professoinal. So use \n",
    "import cv2\n",
    "img = cv2.imread(r\"C:\\Users\\iresh\\Desktop\\Y4S1\\5. IT4130 IUP (Image Understanding and Processing)()\\Week 1 (8th Feb - 14 Feb)\\3.jpg\",-1)\n",
    "\n",
    "# color image\n",
    "cv2.imshow('Input Window',img)\n",
    "cv2.waitKey()\n",
    "\n",
    "# grayscale image\n",
    "gray = cv2.cvtColor(img,cv2.COLOR_BGR2GRAY)\n",
    "\n",
    "cv2.imshow('Gray Output Window',gray)\n",
    "cv2.waitKey()\n",
    "\n",
    "# black and white image (threshold is used to separate the object from the background (a basic segmentation method))\n",
    "# 120 - threshold value\n",
    "# 225 - max value\n",
    "ret, binary_thresh = cv2.threshold(gray,120,255,cv2.THRESH_BINARY)\n",
    "cv2.imshow('Binary Thresh Output Window',binary_thresh)\n",
    "cv2.waitKey()\n",
    "\n",
    "cv2.destroyAllWindows()"
   ]
  }
 ],
 "metadata": {
  "kernelspec": {
   "display_name": "Python 3",
   "language": "python",
   "name": "python3"
  },
  "language_info": {
   "codemirror_mode": {
    "name": "ipython",
    "version": 3
   },
   "file_extension": ".py",
   "mimetype": "text/x-python",
   "name": "python",
   "nbconvert_exporter": "python",
   "pygments_lexer": "ipython3",
   "version": "3.8.3"
  }
 },
 "nbformat": 4,
 "nbformat_minor": 4
}
